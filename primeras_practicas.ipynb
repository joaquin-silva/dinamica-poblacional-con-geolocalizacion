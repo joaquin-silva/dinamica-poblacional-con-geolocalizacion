{
 "cells": [
  {
   "cell_type": "markdown",
   "metadata": {},
   "source": [
    "## Cómo instalar un ambiente virtual en python\n",
    "\n",
    "Para instalar un ambiente virtual en Windows se tienen que seguir los siguientes pasos:\n",
    "\n",
    "1. Asegurar que se tiene instalado pip. Para asegurarse de que está installado se ejecuta el siguiente comando: `py -m pip install --upgrade pip`.\n",
    "2. Instalar ***virtualenv*** con el comando: `py -m pip install --user virtualenv`.\n",
    "3. Se crea el ambiente virtual ***lab_modelacion*** con el comando: `py -m venv lab_modelacion`.\n",
    "4. Se activa el ambiente virtual con el comando: `.\\env\\Scripts\\activate`.\n",
    "\n",
    "## Cómo manejar un proyecto en github\n",
    "\n",
    "En ***GitHub*** podemos manejar un proyecto usando un repositorio. Un repositorio se puede crear fácilmente desde la página de ***Github***. Una vez creado el repositorio ya podemos crear carpetas y agregar archivos a este. Los archivos se pueden editar de la misma página web o importarlos desde el computador.\n",
    "\n",
    "## Cómo funcionan las librerias numpy, pandas y matplotlib \n",
    "\n",
    "Para usar estas librerías tenemos que incluirlas en el encabezado de nuestro código:"
   ]
  },
  {
   "cell_type": "code",
   "execution_count": 1,
   "metadata": {},
   "outputs": [],
   "source": [
    "import numpy as np\n",
    "import pandas as pd\n",
    "import matplotlib as plt"
   ]
  },
  {
   "cell_type": "markdown",
   "metadata": {},
   "source": [
    "- **Numpy:** Es la librería más usada en python para la computación científica. Permite manejar arreglos o matrices y realizar diversas operaciones entre ellos.\n",
    "\n",
    "- **Pandas:** Es una librería orientada al manejo de datos. Se basa en una estructura llamada *DataFrame* que consiste en una estructura de datos de dos dimensiones formada por filas y columnas.\n",
    "\n",
    "- **Matplotlib:** Es una librería que permite visualizar y realizar gráficos de datos. Algunos gráficos que se pueden hacer son: gráficos de linea, histogramas, diagramas de dispersión, gráficos en 3 dimensiones, etc."
   ]
  }
 ],
 "metadata": {
  "kernelspec": {
   "display_name": "Python 3",
   "language": "python",
   "name": "python3"
  },
  "language_info": {
   "codemirror_mode": {
    "name": "ipython",
    "version": 3
   },
   "file_extension": ".py",
   "mimetype": "text/x-python",
   "name": "python",
   "nbconvert_exporter": "python",
   "pygments_lexer": "ipython3",
   "version": "3.7.4"
  }
 },
 "nbformat": 4,
 "nbformat_minor": 4
}
